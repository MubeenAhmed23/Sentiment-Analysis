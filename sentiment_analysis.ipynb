{
 "cells": [
  {
   "cell_type": "code",
   "execution_count": 21,
   "metadata": {},
   "outputs": [],
   "source": [
    "import numpy as np\n",
    "import pandas as pd\n",
    "from transformers import AutoTokenizer, AutoModelForSequenceClassification\n",
    "import torch \n",
    "from bs4 import BeautifulSoup\n",
    "import requests\n",
    "import re"
   ]
  },
  {
   "cell_type": "code",
   "execution_count": 22,
   "metadata": {},
   "outputs": [],
   "source": [
    "tokenizer = AutoTokenizer.from_pretrained(\"nlptown/bert-base-multilingual-uncased-sentiment\")\n",
    "model = AutoModelForSequenceClassification.from_pretrained(\"nlptown/bert-base-multilingual-uncased-sentiment\")"
   ]
  },
  {
   "cell_type": "code",
   "execution_count": 23,
   "metadata": {},
   "outputs": [],
   "source": [
    "tokens = tokenizer.encode(\"this is good, but could be better\", return_tensors='pt')"
   ]
  },
  {
   "cell_type": "code",
   "execution_count": 24,
   "metadata": {},
   "outputs": [
    {
     "data": {
      "text/plain": [
       "tensor([[-2.2128, -0.3438,  2.0223,  1.5271, -0.9159]],\n",
       "       grad_fn=<AddmmBackward0>)"
      ]
     },
     "execution_count": 24,
     "metadata": {},
     "output_type": "execute_result"
    }
   ],
   "source": [
    "result = model(tokens)\n",
    "result.logits"
   ]
  },
  {
   "cell_type": "code",
   "execution_count": 25,
   "metadata": {},
   "outputs": [
    {
     "data": {
      "text/plain": [
       "3"
      ]
     },
     "execution_count": 25,
     "metadata": {},
     "output_type": "execute_result"
    }
   ],
   "source": [
    "int(torch.argmax(result.logits)+1)\n"
   ]
  },
  {
   "cell_type": "code",
   "execution_count": 26,
   "metadata": {},
   "outputs": [],
   "source": [
    "#collect reviews \n",
    "r = requests.get('https://de.trustpilot.com/review/www.saphe.com')\n",
    "soup = BeautifulSoup(r.text, 'html.parser')\n",
    "regex = re.compile('.*typography_body-l.*')\n",
    "results = soup.find_all('p', {'class':regex})\n",
    "reviews = [result.text for result in results]\n",
    " "
   ]
  },
  {
   "cell_type": "code",
   "execution_count": 27,
   "metadata": {},
   "outputs": [
    {
     "data": {
      "text/plain": [
       "'Das Gerät an sich hat eine super Qualität und die App macht auch einen übersichtlichen soliden Eindruck . Man kann alles über die App steuern … wenn man an einem Blitzer vorbei fährt kann man diesen direkt am Gerät melden .Der Akku des Gerätes hält super lang (habe nach der Lieferung noch kein einziges Mal laden müssen . Habe das Gerät jetzt schon ungefähr eine Woche )Das einzige was mich stört , ich würde gerne wenn ein Blitzer kommt ein bisschen früher mit einem Ton gewarnt werden und nicht erst 300 Meter davor . Und irgendwie stimmt etwas mit der Kommunikation nicht was das Internet betrifft . Kann aber auch an mir liegen :)Im Großen und ganzen würde ich das Gerät weiter empfehlen und ich bin gespannt was die Zeit noch so mit sich bringen wird . '"
      ]
     },
     "execution_count": 27,
     "metadata": {},
     "output_type": "execute_result"
    }
   ],
   "source": [
    "reviews[9]"
   ]
  },
  {
   "cell_type": "code",
   "execution_count": 28,
   "metadata": {},
   "outputs": [],
   "source": [
    "df = pd.DataFrame(np.array(reviews), columns=['review'])\n"
   ]
  },
  {
   "cell_type": "code",
   "execution_count": 29,
   "metadata": {},
   "outputs": [
    {
     "data": {
      "text/plain": [
       "'Die Kombination von Navigation und Radarwarnung funktioniert gut bis sehr gut. Die Signaltöne sind differenziert und ausreichend laut.Toll wäre die Möglichkeit eigene Töne zu definieren (z.B. \"Du fährst zu schnell\" mit Stimme der Ehefrau\")Schwierig ist die Bedienung während der Fahrt, insbesondere die Start-Taste für die Navigation und die Zentrierfunktion sind viel zu klein.'"
      ]
     },
     "execution_count": 29,
     "metadata": {},
     "output_type": "execute_result"
    }
   ],
   "source": [
    "df['review'].iloc[2]"
   ]
  },
  {
   "cell_type": "code",
   "execution_count": 30,
   "metadata": {},
   "outputs": [],
   "source": [
    "def sentiment_pred(review):\n",
    "    tokens = tokenizer.encode(review, return_tensors='pt')\n",
    "    result = model(tokens)\n",
    "    return int(torch.argmax(result.logits)+1)\n"
   ]
  },
  {
   "cell_type": "code",
   "execution_count": 31,
   "metadata": {},
   "outputs": [],
   "source": [
    "sentiment_pred(df['review'].iloc[2])\n",
    "df = df.drop(index=[0, 1, 22, 23, 24])"
   ]
  },
  {
   "cell_type": "code",
   "execution_count": 32,
   "metadata": {},
   "outputs": [],
   "source": [
    "df['sentiment'] = df['review'].apply(lambda x: sentiment_pred(x[:512]))"
   ]
  },
  {
   "cell_type": "code",
   "execution_count": 33,
   "metadata": {},
   "outputs": [
    {
     "data": {
      "text/html": [
       "<div>\n",
       "<style scoped>\n",
       "    .dataframe tbody tr th:only-of-type {\n",
       "        vertical-align: middle;\n",
       "    }\n",
       "\n",
       "    .dataframe tbody tr th {\n",
       "        vertical-align: top;\n",
       "    }\n",
       "\n",
       "    .dataframe thead th {\n",
       "        text-align: right;\n",
       "    }\n",
       "</style>\n",
       "<table border=\"1\" class=\"dataframe\">\n",
       "  <thead>\n",
       "    <tr style=\"text-align: right;\">\n",
       "      <th></th>\n",
       "      <th>review</th>\n",
       "      <th>sentiment</th>\n",
       "    </tr>\n",
       "  </thead>\n",
       "  <tbody>\n",
       "    <tr>\n",
       "      <th>2</th>\n",
       "      <td>Die Kombination von Navigation und Radarwarnun...</td>\n",
       "      <td>4</td>\n",
       "    </tr>\n",
       "    <tr>\n",
       "      <th>3</th>\n",
       "      <td>Ich habe seit 1 Jahr das Saphe Drive Pro und b...</td>\n",
       "      <td>4</td>\n",
       "    </tr>\n",
       "    <tr>\n",
       "      <th>4</th>\n",
       "      <td>Alles gut, alles funktioniert wie es soll. Bat...</td>\n",
       "      <td>5</td>\n",
       "    </tr>\n",
       "    <tr>\n",
       "      <th>5</th>\n",
       "      <td>Gut ist der Display der die Geschwindigkeit un...</td>\n",
       "      <td>4</td>\n",
       "    </tr>\n",
       "    <tr>\n",
       "      <th>6</th>\n",
       "      <td>Das Gerät hat bisher immer zuverlässig alle Bl...</td>\n",
       "      <td>5</td>\n",
       "    </tr>\n",
       "    <tr>\n",
       "      <th>7</th>\n",
       "      <td>Ich habe es getestet für den pkw und bin posit...</td>\n",
       "      <td>5</td>\n",
       "    </tr>\n",
       "    <tr>\n",
       "      <th>8</th>\n",
       "      <td>Das Gerät an sich ist recht gut, Akku hält lan...</td>\n",
       "      <td>4</td>\n",
       "    </tr>\n",
       "    <tr>\n",
       "      <th>9</th>\n",
       "      <td>Das Gerät an sich hat eine super Qualität und ...</td>\n",
       "      <td>4</td>\n",
       "    </tr>\n",
       "    <tr>\n",
       "      <th>10</th>\n",
       "      <td>Super Gerät. Durch die Vernetzung werden sämtl...</td>\n",
       "      <td>4</td>\n",
       "    </tr>\n",
       "    <tr>\n",
       "      <th>11</th>\n",
       "      <td>Was einfach nervt an den Geräten ist das selbe...</td>\n",
       "      <td>1</td>\n",
       "    </tr>\n",
       "    <tr>\n",
       "      <th>12</th>\n",
       "      <td>Hat alles einwandfrei und zügig funktioniert!N...</td>\n",
       "      <td>3</td>\n",
       "    </tr>\n",
       "    <tr>\n",
       "      <th>13</th>\n",
       "      <td>Es lief alles einwandfrei. Auch das Gerät selb...</td>\n",
       "      <td>5</td>\n",
       "    </tr>\n",
       "    <tr>\n",
       "      <th>14</th>\n",
       "      <td>Soweit ganz zufrieden. Will sich immer gleich ...</td>\n",
       "      <td>4</td>\n",
       "    </tr>\n",
       "    <tr>\n",
       "      <th>15</th>\n",
       "      <td>Ich bin insgesamt sehr zufrieden mit meinem Ka...</td>\n",
       "      <td>5</td>\n",
       "    </tr>\n",
       "    <tr>\n",
       "      <th>16</th>\n",
       "      <td>Der Saphe ist gut zu bedienen übersichtlich un...</td>\n",
       "      <td>4</td>\n",
       "    </tr>\n",
       "    <tr>\n",
       "      <th>17</th>\n",
       "      <td>Es ist gut, dass das Gerät die Geschwindigkeit...</td>\n",
       "      <td>2</td>\n",
       "    </tr>\n",
       "    <tr>\n",
       "      <th>18</th>\n",
       "      <td>Das Saphe ist eine super Sache. Kennzeichnen E...</td>\n",
       "      <td>4</td>\n",
       "    </tr>\n",
       "    <tr>\n",
       "      <th>19</th>\n",
       "      <td>Produkt ist gut, ab und an stimmen die Tempo-l...</td>\n",
       "      <td>4</td>\n",
       "    </tr>\n",
       "    <tr>\n",
       "      <th>20</th>\n",
       "      <td>Saphe ist eine hervorragende Lösung für alle, ...</td>\n",
       "      <td>5</td>\n",
       "    </tr>\n",
       "    <tr>\n",
       "      <th>21</th>\n",
       "      <td>Kurze Reaktion auf mein Anliegen ohne wenn und...</td>\n",
       "      <td>5</td>\n",
       "    </tr>\n",
       "  </tbody>\n",
       "</table>\n",
       "</div>"
      ],
      "text/plain": [
       "                                               review  sentiment\n",
       "2   Die Kombination von Navigation und Radarwarnun...          4\n",
       "3   Ich habe seit 1 Jahr das Saphe Drive Pro und b...          4\n",
       "4   Alles gut, alles funktioniert wie es soll. Bat...          5\n",
       "5   Gut ist der Display der die Geschwindigkeit un...          4\n",
       "6   Das Gerät hat bisher immer zuverlässig alle Bl...          5\n",
       "7   Ich habe es getestet für den pkw und bin posit...          5\n",
       "8   Das Gerät an sich ist recht gut, Akku hält lan...          4\n",
       "9   Das Gerät an sich hat eine super Qualität und ...          4\n",
       "10  Super Gerät. Durch die Vernetzung werden sämtl...          4\n",
       "11  Was einfach nervt an den Geräten ist das selbe...          1\n",
       "12  Hat alles einwandfrei und zügig funktioniert!N...          3\n",
       "13  Es lief alles einwandfrei. Auch das Gerät selb...          5\n",
       "14  Soweit ganz zufrieden. Will sich immer gleich ...          4\n",
       "15  Ich bin insgesamt sehr zufrieden mit meinem Ka...          5\n",
       "16  Der Saphe ist gut zu bedienen übersichtlich un...          4\n",
       "17  Es ist gut, dass das Gerät die Geschwindigkeit...          2\n",
       "18  Das Saphe ist eine super Sache. Kennzeichnen E...          4\n",
       "19  Produkt ist gut, ab und an stimmen die Tempo-l...          4\n",
       "20  Saphe ist eine hervorragende Lösung für alle, ...          5\n",
       "21  Kurze Reaktion auf mein Anliegen ohne wenn und...          5"
      ]
     },
     "execution_count": 33,
     "metadata": {},
     "output_type": "execute_result"
    }
   ],
   "source": [
    "df"
   ]
  }
 ],
 "metadata": {
  "kernelspec": {
   "display_name": ".venv",
   "language": "python",
   "name": "python3"
  },
  "language_info": {
   "codemirror_mode": {
    "name": "ipython",
    "version": 3
   },
   "file_extension": ".py",
   "mimetype": "text/x-python",
   "name": "python",
   "nbconvert_exporter": "python",
   "pygments_lexer": "ipython3",
   "version": "3.12.8"
  }
 },
 "nbformat": 4,
 "nbformat_minor": 2
}
