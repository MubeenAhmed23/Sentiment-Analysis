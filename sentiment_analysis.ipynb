{
 "cells": [
  {
   "cell_type": "code",
   "execution_count": null,
   "metadata": {},
   "outputs": [],
   "source": [
    "import numpy as np\n",
    "import pandas as pd\n",
    "from transformers import AutoTokenizer, AutoModelForSequenceClassification\n",
    "import torch \n",
    "from bs4 import BeautifulSoup\n",
    "import requests\n",
    "import re"
   ]
  },
  {
   "cell_type": "code",
   "execution_count": 62,
   "metadata": {},
   "outputs": [],
   "source": [
    "tokenizer = AutoTokenizer.from_pretrained(\"nlptown/bert-base-multilingual-uncased-sentiment\")\n",
    "model = AutoModelForSequenceClassification.from_pretrained(\"nlptown/bert-base-multilingual-uncased-sentiment\")"
   ]
  },
  {
   "cell_type": "code",
   "execution_count": 78,
   "metadata": {},
   "outputs": [],
   "source": [
    "tokens = tokenizer.encode(\"this is good, but could be better\", return_tensors='pt')"
   ]
  },
  {
   "cell_type": "code",
   "execution_count": 79,
   "metadata": {},
   "outputs": [
    {
     "data": {
      "text/plain": [
       "tensor([[-2.2128, -0.3438,  2.0223,  1.5271, -0.9159]],\n",
       "       grad_fn=<AddmmBackward0>)"
      ]
     },
     "execution_count": 79,
     "metadata": {},
     "output_type": "execute_result"
    }
   ],
   "source": [
    "result = model(tokens)\n",
    "result.logits"
   ]
  },
  {
   "cell_type": "code",
   "execution_count": 80,
   "metadata": {},
   "outputs": [
    {
     "data": {
      "text/plain": [
       "3"
      ]
     },
     "execution_count": 80,
     "metadata": {},
     "output_type": "execute_result"
    }
   ],
   "source": [
    "int(torch.argmax(result.logits)+1)\n"
   ]
  },
  {
   "cell_type": "code",
   "execution_count": 109,
   "metadata": {},
   "outputs": [],
   "source": [
    "#collect reviews \n",
    "r = requests.get('https://de.trustpilot.com/review/www.saphe.com')\n",
    "soup = BeautifulSoup(r.text, 'html.parser')\n",
    "regex = re.compile('.*typography_body-l.*')\n",
    "results = soup.find_all('p', {'class':regex})\n",
    "reviews = [result.text for result in results]\n",
    " "
   ]
  },
  {
   "cell_type": "code",
   "execution_count": 115,
   "metadata": {},
   "outputs": [
    {
     "data": {
      "text/plain": [
       "'Ich bin insgesamt sehr zufrieden mit meinem Kauf des Saphe Gefahrenwarners. Der gesamte Prozess – vom Kauf bis zur Nutzung – verlief reibungslos. Die Installation war kinderleicht, und die Verbindung mit der App klappte auf Anhieb. Das Gerät ist kompakt, unauffällig und passt problemlos ins Fahrzeug.Besonders beeindruckt bin ich von der schnellen und zuverlässigen Warnung vor Gefahrenstellen und Blitzern. Es gibt ein gutes Gefühl, sicherer und entspannter unterwegs zu sein. Die Echtzeit-Updates sind ein großer Pluspunkt, da sie helfen, stets aktuelle Informationen zu erhalten.Ein kleiner Wermutstropfen war, dass ich bei zwei Blitzern erst gewarnt wurde, als ich bereits daran vorbeigefahren war – obwohl alle Einstellungen korrekt waren. Das ist jedoch eine Kleinigkeit und mindert meine Gesamtzufriedenheit nicht wesentlich.Alles in allem bietet Saphe eine hervorragende Lösung für sicheres Fahren. Ich kann das Produkt jedem empfehlen, der Wert auf zusätzliche Sicherheit und aktuelle Warnungen im Straßenverkehr legt.'"
      ]
     },
     "execution_count": 115,
     "metadata": {},
     "output_type": "execute_result"
    }
   ],
   "source": [
    "reviews[9]"
   ]
  },
  {
   "cell_type": "code",
   "execution_count": 116,
   "metadata": {},
   "outputs": [],
   "source": [
    "df = pd.DataFrame(np.array(reviews), columns=['review'])\n"
   ]
  },
  {
   "cell_type": "code",
   "execution_count": 120,
   "metadata": {},
   "outputs": [
    {
     "data": {
      "text/plain": [
       "'Ich habe es getestet für den pkw und bin positiv begeistert es sagt alles an und warnt rechtzeitig . Vorschlag sowas speziel für lkw wäre eine gute Sache die ich dann auch sofort testen würde '"
      ]
     },
     "execution_count": 120,
     "metadata": {},
     "output_type": "execute_result"
    }
   ],
   "source": [
    "df['review'].iloc[2]"
   ]
  },
  {
   "cell_type": "code",
   "execution_count": 121,
   "metadata": {},
   "outputs": [],
   "source": [
    "def sentiment_pred(review):\n",
    "    tokens = tokenizer.encode(review, return_tensors='pt')\n",
    "    result = model(tokens)\n",
    "    return int(torch.argmax(result.logits)+1)\n"
   ]
  },
  {
   "cell_type": "code",
   "execution_count": 122,
   "metadata": {},
   "outputs": [
    {
     "data": {
      "text/plain": [
       "5"
      ]
     },
     "execution_count": 122,
     "metadata": {},
     "output_type": "execute_result"
    }
   ],
   "source": [
    "sentiment_pred(df['review'].iloc[2])"
   ]
  },
  {
   "cell_type": "code",
   "execution_count": 123,
   "metadata": {},
   "outputs": [],
   "source": [
    "df['sentiment'] = df['review'].apply(lambda x: sentiment_pred(x[:512]))"
   ]
  },
  {
   "cell_type": "code",
   "execution_count": 124,
   "metadata": {},
   "outputs": [
    {
     "data": {
      "text/html": [
       "<div>\n",
       "<style scoped>\n",
       "    .dataframe tbody tr th:only-of-type {\n",
       "        vertical-align: middle;\n",
       "    }\n",
       "\n",
       "    .dataframe tbody tr th {\n",
       "        vertical-align: top;\n",
       "    }\n",
       "\n",
       "    .dataframe thead th {\n",
       "        text-align: right;\n",
       "    }\n",
       "</style>\n",
       "<table border=\"1\" class=\"dataframe\">\n",
       "  <thead>\n",
       "    <tr style=\"text-align: right;\">\n",
       "      <th></th>\n",
       "      <th>review</th>\n",
       "      <th>sentiment</th>\n",
       "    </tr>\n",
       "  </thead>\n",
       "  <tbody>\n",
       "    <tr>\n",
       "      <th>0</th>\n",
       "      <td>4,3</td>\n",
       "      <td>4</td>\n",
       "    </tr>\n",
       "    <tr>\n",
       "      <th>1</th>\n",
       "      <td>Insgesamt 11.602</td>\n",
       "      <td>1</td>\n",
       "    </tr>\n",
       "    <tr>\n",
       "      <th>2</th>\n",
       "      <td>Ich habe es getestet für den pkw und bin posit...</td>\n",
       "      <td>5</td>\n",
       "    </tr>\n",
       "    <tr>\n",
       "      <th>3</th>\n",
       "      <td>Gut ist der Display der die Geschwindigkeit un...</td>\n",
       "      <td>4</td>\n",
       "    </tr>\n",
       "    <tr>\n",
       "      <th>4</th>\n",
       "      <td>Das Gerät an sich ist recht gut, Akku hält lan...</td>\n",
       "      <td>4</td>\n",
       "    </tr>\n",
       "    <tr>\n",
       "      <th>5</th>\n",
       "      <td>Das Gerät hat bisher immer zuverlässig alle Bl...</td>\n",
       "      <td>5</td>\n",
       "    </tr>\n",
       "    <tr>\n",
       "      <th>6</th>\n",
       "      <td>Der Saphe ist gut zu bedienen übersichtlich un...</td>\n",
       "      <td>4</td>\n",
       "    </tr>\n",
       "    <tr>\n",
       "      <th>7</th>\n",
       "      <td>Was einfach nervt an den Geräten ist das selbe...</td>\n",
       "      <td>1</td>\n",
       "    </tr>\n",
       "    <tr>\n",
       "      <th>8</th>\n",
       "      <td>Soweit ganz zufrieden. Will sich immer gleich ...</td>\n",
       "      <td>4</td>\n",
       "    </tr>\n",
       "    <tr>\n",
       "      <th>9</th>\n",
       "      <td>Ich bin insgesamt sehr zufrieden mit meinem Ka...</td>\n",
       "      <td>5</td>\n",
       "    </tr>\n",
       "    <tr>\n",
       "      <th>10</th>\n",
       "      <td>Das Gerät an sich hat eine super Qualität und ...</td>\n",
       "      <td>4</td>\n",
       "    </tr>\n",
       "    <tr>\n",
       "      <th>11</th>\n",
       "      <td>Saphe ist eine hervorragende Lösung für alle, ...</td>\n",
       "      <td>5</td>\n",
       "    </tr>\n",
       "    <tr>\n",
       "      <th>12</th>\n",
       "      <td>Produkt ist gut, ab und an stimmen die Tempo-l...</td>\n",
       "      <td>4</td>\n",
       "    </tr>\n",
       "    <tr>\n",
       "      <th>13</th>\n",
       "      <td>Super Gerät. Durch die Vernetzung werden sämtl...</td>\n",
       "      <td>4</td>\n",
       "    </tr>\n",
       "    <tr>\n",
       "      <th>14</th>\n",
       "      <td>Kurze Reaktion auf mein Anliegen ohne wenn und...</td>\n",
       "      <td>5</td>\n",
       "    </tr>\n",
       "    <tr>\n",
       "      <th>15</th>\n",
       "      <td>Das gerät ist top und zuverlässig. Es hat mir ...</td>\n",
       "      <td>5</td>\n",
       "    </tr>\n",
       "    <tr>\n",
       "      <th>16</th>\n",
       "      <td>Mit 81 und langen Jahren Praxis mit PCs im ber...</td>\n",
       "      <td>1</td>\n",
       "    </tr>\n",
       "    <tr>\n",
       "      <th>17</th>\n",
       "      <td>Es ist gut, dass das Gerät die Geschwindigkeit...</td>\n",
       "      <td>2</td>\n",
       "    </tr>\n",
       "    <tr>\n",
       "      <th>18</th>\n",
       "      <td>Echt viele Fehlalarme und der Kleber der Lüfte...</td>\n",
       "      <td>3</td>\n",
       "    </tr>\n",
       "    <tr>\n",
       "      <th>19</th>\n",
       "      <td>Super Unterstützung im straßenverkehr.Das Abo ...</td>\n",
       "      <td>5</td>\n",
       "    </tr>\n",
       "    <tr>\n",
       "      <th>20</th>\n",
       "      <td>Im großen und Ganzen zufrieden.Das einzige neg...</td>\n",
       "      <td>4</td>\n",
       "    </tr>\n",
       "    <tr>\n",
       "      <th>21</th>\n",
       "      <td>Das Gerät hilft mir sehr beim bemühen, mich an...</td>\n",
       "      <td>4</td>\n",
       "    </tr>\n",
       "    <tr>\n",
       "      <th>22</th>\n",
       "      <td>OOONO</td>\n",
       "      <td>3</td>\n",
       "    </tr>\n",
       "    <tr>\n",
       "      <th>23</th>\n",
       "      <td>Trafik Alarm</td>\n",
       "      <td>5</td>\n",
       "    </tr>\n",
       "    <tr>\n",
       "      <th>24</th>\n",
       "      <td>Saphe</td>\n",
       "      <td>3</td>\n",
       "    </tr>\n",
       "  </tbody>\n",
       "</table>\n",
       "</div>"
      ],
      "text/plain": [
       "                                               review  sentiment\n",
       "0                                                 4,3          4\n",
       "1                                    Insgesamt 11.602          1\n",
       "2   Ich habe es getestet für den pkw und bin posit...          5\n",
       "3   Gut ist der Display der die Geschwindigkeit un...          4\n",
       "4   Das Gerät an sich ist recht gut, Akku hält lan...          4\n",
       "5   Das Gerät hat bisher immer zuverlässig alle Bl...          5\n",
       "6   Der Saphe ist gut zu bedienen übersichtlich un...          4\n",
       "7   Was einfach nervt an den Geräten ist das selbe...          1\n",
       "8   Soweit ganz zufrieden. Will sich immer gleich ...          4\n",
       "9   Ich bin insgesamt sehr zufrieden mit meinem Ka...          5\n",
       "10  Das Gerät an sich hat eine super Qualität und ...          4\n",
       "11  Saphe ist eine hervorragende Lösung für alle, ...          5\n",
       "12  Produkt ist gut, ab und an stimmen die Tempo-l...          4\n",
       "13  Super Gerät. Durch die Vernetzung werden sämtl...          4\n",
       "14  Kurze Reaktion auf mein Anliegen ohne wenn und...          5\n",
       "15  Das gerät ist top und zuverlässig. Es hat mir ...          5\n",
       "16  Mit 81 und langen Jahren Praxis mit PCs im ber...          1\n",
       "17  Es ist gut, dass das Gerät die Geschwindigkeit...          2\n",
       "18  Echt viele Fehlalarme und der Kleber der Lüfte...          3\n",
       "19  Super Unterstützung im straßenverkehr.Das Abo ...          5\n",
       "20  Im großen und Ganzen zufrieden.Das einzige neg...          4\n",
       "21  Das Gerät hilft mir sehr beim bemühen, mich an...          4\n",
       "22                                              OOONO          3\n",
       "23                                       Trafik Alarm          5\n",
       "24                                              Saphe          3"
      ]
     },
     "execution_count": 124,
     "metadata": {},
     "output_type": "execute_result"
    }
   ],
   "source": [
    "df"
   ]
  },
  {
   "cell_type": "code",
   "execution_count": null,
   "metadata": {},
   "outputs": [],
   "source": [
    " "
   ]
  }
 ],
 "metadata": {
  "kernelspec": {
   "display_name": ".venv",
   "language": "python",
   "name": "python3"
  },
  "language_info": {
   "codemirror_mode": {
    "name": "ipython",
    "version": 3
   },
   "file_extension": ".py",
   "mimetype": "text/x-python",
   "name": "python",
   "nbconvert_exporter": "python",
   "pygments_lexer": "ipython3",
   "version": "3.12.8"
  }
 },
 "nbformat": 4,
 "nbformat_minor": 2
}
